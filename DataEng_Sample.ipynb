{
  "nbformat": 4,
  "nbformat_minor": 0,
  "metadata": {
    "colab": {
      "name": "Desafio_Geofusion_RicardoTakeda.ipynb",
      "provenance": [],
      "collapsed_sections": [],
      "toc_visible": true
    },
    "kernelspec": {
      "name": "python3",
      "display_name": "Python 3"
    },
    "language_info": {
      "name": "python"
    }
  },
  "cells": [
    {
      "cell_type": "code",
      "metadata": {
        "id": "855iOJFVK-IH"
      },
      "source": [
        "import warnings\n",
        "warnings.filterwarnings('ignore')\n",
        "import numpy as np\n",
        "import pandas as pd\n",
        "import scipy.stats\n",
        "\n",
        "from sklearn.model_selection import train_test_split \n",
        "from sklearn.model_selection import cross_val_score\n",
        "\n",
        "from sklearn.preprocessing import StandardScaler\n",
        "from sklearn.preprocessing import LabelEncoder\n",
        "\n",
        "from sklearn.linear_model import LinearRegression\n",
        "from sklearn.tree import DecisionTreeRegressor\n",
        "\n",
        "from sklearn.metrics import mean_squared_error\n",
        "\n",
        "import seaborn as sns\n",
        "import matplotlib.pyplot as plt\n",
        "\n",
        "\n",
        "%matplotlib inline"
      ],
      "execution_count": null,
      "outputs": []
    },
    {
      "cell_type": "code",
      "metadata": {
        "id": "_XHP8Cv1LIWH"
      },
      "source": [
        "dt = pd.read_csv('GeoFusionDT.csv') "
      ],
      "execution_count": null,
      "outputs": []
    },
    {
      "cell_type": "markdown",
      "metadata": {
        "id": "7aG508iJEmtw"
      },
      "source": [
        "Verificando se o arquivo foi alimentado corretamente"
      ]
    },
    {
      "cell_type": "code",
      "metadata": {
        "colab": {
          "base_uri": "https://localhost:8080/",
          "height": 329
        },
        "id": "qK5cOsmJLiWp",
        "outputId": "a4fb6b74-8fe3-445f-bf5c-05a7497bc77d"
      },
      "source": [
        "dt.head()"
      ],
      "execution_count": null,
      "outputs": [
        {
          "output_type": "execute_result",
          "data": {
            "text/html": [
              "<div>\n",
              "<style scoped>\n",
              "    .dataframe tbody tr th:only-of-type {\n",
              "        vertical-align: middle;\n",
              "    }\n",
              "\n",
              "    .dataframe tbody tr th {\n",
              "        vertical-align: top;\n",
              "    }\n",
              "\n",
              "    .dataframe thead th {\n",
              "        text-align: right;\n",
              "    }\n",
              "</style>\n",
              "<table border=\"1\" class=\"dataframe\">\n",
              "  <thead>\n",
              "    <tr style=\"text-align: right;\">\n",
              "      <th></th>\n",
              "      <th>codigo</th>\n",
              "      <th>nome</th>\n",
              "      <th>cidade</th>\n",
              "      <th>estado</th>\n",
              "      <th>população</th>\n",
              "      <th>popAte9</th>\n",
              "      <th>popDe10a14</th>\n",
              "      <th>popDe15a19</th>\n",
              "      <th>popDe20a24</th>\n",
              "      <th>popDe25a34</th>\n",
              "      <th>popDe35a49</th>\n",
              "      <th>popDe50a59</th>\n",
              "      <th>popMaisDe60</th>\n",
              "      <th>domiciliosA1</th>\n",
              "      <th>domiciliosA2</th>\n",
              "      <th>domiciliosB1</th>\n",
              "      <th>domiciliosB2</th>\n",
              "      <th>domiciliosC1</th>\n",
              "      <th>domiciliosC2</th>\n",
              "      <th>domiciliosD</th>\n",
              "      <th>domiciliosE</th>\n",
              "      <th>rendaMedia</th>\n",
              "      <th>faturamento</th>\n",
              "    </tr>\n",
              "  </thead>\n",
              "  <tbody>\n",
              "    <tr>\n",
              "      <th>0</th>\n",
              "      <td>3304557060</td>\n",
              "      <td>Abolição</td>\n",
              "      <td>Rio de Janeiro</td>\n",
              "      <td>RJ</td>\n",
              "      <td>11676</td>\n",
              "      <td>1027</td>\n",
              "      <td>483</td>\n",
              "      <td>688</td>\n",
              "      <td>800</td>\n",
              "      <td>1675</td>\n",
              "      <td>2300</td>\n",
              "      <td>1784</td>\n",
              "      <td>2919</td>\n",
              "      <td>0</td>\n",
              "      <td>145</td>\n",
              "      <td>715</td>\n",
              "      <td>1242</td>\n",
              "      <td>1093</td>\n",
              "      <td>758</td>\n",
              "      <td>92</td>\n",
              "      <td>304</td>\n",
              "      <td>2501.0</td>\n",
              "      <td>932515.0</td>\n",
              "    </tr>\n",
              "    <tr>\n",
              "      <th>1</th>\n",
              "      <td>3304557138</td>\n",
              "      <td>Acari</td>\n",
              "      <td>Rio de Janeiro</td>\n",
              "      <td>RJ</td>\n",
              "      <td>27564</td>\n",
              "      <td>5131</td>\n",
              "      <td>2188</td>\n",
              "      <td>2697</td>\n",
              "      <td>2630</td>\n",
              "      <td>4810</td>\n",
              "      <td>5308</td>\n",
              "      <td>2403</td>\n",
              "      <td>2397</td>\n",
              "      <td>0</td>\n",
              "      <td>0</td>\n",
              "      <td>82</td>\n",
              "      <td>506</td>\n",
              "      <td>2040</td>\n",
              "      <td>2490</td>\n",
              "      <td>827</td>\n",
              "      <td>2506</td>\n",
              "      <td>931.0</td>\n",
              "      <td>588833.0</td>\n",
              "    </tr>\n",
              "    <tr>\n",
              "      <th>2</th>\n",
              "      <td>3304557057</td>\n",
              "      <td>Água Santa</td>\n",
              "      <td>Rio de Janeiro</td>\n",
              "      <td>RJ</td>\n",
              "      <td>9003</td>\n",
              "      <td>883</td>\n",
              "      <td>399</td>\n",
              "      <td>597</td>\n",
              "      <td>762</td>\n",
              "      <td>1755</td>\n",
              "      <td>2076</td>\n",
              "      <td>1112</td>\n",
              "      <td>1419</td>\n",
              "      <td>0</td>\n",
              "      <td>96</td>\n",
              "      <td>404</td>\n",
              "      <td>652</td>\n",
              "      <td>644</td>\n",
              "      <td>522</td>\n",
              "      <td>77</td>\n",
              "      <td>254</td>\n",
              "      <td>2391.0</td>\n",
              "      <td>874200.0</td>\n",
              "    </tr>\n",
              "    <tr>\n",
              "      <th>3</th>\n",
              "      <td>3304557031</td>\n",
              "      <td>Alto Da Boa Vista</td>\n",
              "      <td>Rio de Janeiro</td>\n",
              "      <td>RJ</td>\n",
              "      <td>9606</td>\n",
              "      <td>1072</td>\n",
              "      <td>538</td>\n",
              "      <td>660</td>\n",
              "      <td>685</td>\n",
              "      <td>1317</td>\n",
              "      <td>2007</td>\n",
              "      <td>1341</td>\n",
              "      <td>1986</td>\n",
              "      <td>114</td>\n",
              "      <td>178</td>\n",
              "      <td>393</td>\n",
              "      <td>517</td>\n",
              "      <td>945</td>\n",
              "      <td>584</td>\n",
              "      <td>137</td>\n",
              "      <td>286</td>\n",
              "      <td>3727.0</td>\n",
              "      <td>912226.0</td>\n",
              "    </tr>\n",
              "    <tr>\n",
              "      <th>4</th>\n",
              "      <td>3304557125</td>\n",
              "      <td>Anchieta</td>\n",
              "      <td>Rio de Janeiro</td>\n",
              "      <td>RJ</td>\n",
              "      <td>57222</td>\n",
              "      <td>7677</td>\n",
              "      <td>3774</td>\n",
              "      <td>4892</td>\n",
              "      <td>4600</td>\n",
              "      <td>8660</td>\n",
              "      <td>12272</td>\n",
              "      <td>7157</td>\n",
              "      <td>8190</td>\n",
              "      <td>0</td>\n",
              "      <td>0</td>\n",
              "      <td>1089</td>\n",
              "      <td>2821</td>\n",
              "      <td>5110</td>\n",
              "      <td>5422</td>\n",
              "      <td>1073</td>\n",
              "      <td>3261</td>\n",
              "      <td>1380.0</td>\n",
              "      <td>553020.0</td>\n",
              "    </tr>\n",
              "  </tbody>\n",
              "</table>\n",
              "</div>"
            ],
            "text/plain": [
              "       codigo               nome  ... rendaMedia faturamento\n",
              "0  3304557060           Abolição  ...     2501.0    932515.0\n",
              "1  3304557138              Acari  ...      931.0    588833.0\n",
              "2  3304557057         Água Santa  ...     2391.0    874200.0\n",
              "3  3304557031  Alto Da Boa Vista  ...     3727.0    912226.0\n",
              "4  3304557125           Anchieta  ...     1380.0    553020.0\n",
              "\n",
              "[5 rows x 23 columns]"
            ]
          },
          "metadata": {
            "tags": []
          },
          "execution_count": 555
        }
      ]
    },
    {
      "cell_type": "markdown",
      "metadata": {
        "id": "RRABUVL2ezNM"
      },
      "source": [
        "Variável alvo Faturamento"
      ]
    },
    {
      "cell_type": "code",
      "metadata": {
        "colab": {
          "base_uri": "https://localhost:8080/"
        },
        "id": "VVmIELlzVOZE",
        "outputId": "451dc540-3fa5-4c9c-f876-4afd309b72ac"
      },
      "source": [
        "(dt['faturamento'].describe().round(2))"
      ],
      "execution_count": null,
      "outputs": [
        {
          "output_type": "execute_result",
          "data": {
            "text/plain": [
              "count        160.00\n",
              "mean      876159.97\n",
              "std       438210.60\n",
              "min        24651.00\n",
              "25%       711278.50\n",
              "50%       824228.50\n",
              "75%       934320.75\n",
              "max      2915612.00\n",
              "Name: faturamento, dtype: float64"
            ]
          },
          "metadata": {
            "tags": []
          },
          "execution_count": 556
        }
      ]
    },
    {
      "cell_type": "markdown",
      "metadata": {
        "id": "_o1B4yZkpfmd"
      },
      "source": [
        "# Informações sobre o dataset"
      ]
    },
    {
      "cell_type": "markdown",
      "metadata": {
        "id": "9RuJC-zqTpnf"
      },
      "source": [
        "Temos 160 bairros diferentes da cidade do Rio de janeiro."
      ]
    },
    {
      "cell_type": "code",
      "metadata": {
        "colab": {
          "base_uri": "https://localhost:8080/"
        },
        "id": "EQjr09IRTFnH",
        "outputId": "a8dfbfe0-e928-4e98-ed2e-7c77dd40bead"
      },
      "source": [
        "dt.nunique()"
      ],
      "execution_count": null,
      "outputs": [
        {
          "output_type": "execute_result",
          "data": {
            "text/plain": [
              "codigo          160\n",
              "nome            160\n",
              "cidade            1\n",
              "estado            1\n",
              "população       159\n",
              "popAte9         159\n",
              "popDe10a14      159\n",
              "popDe15a19      156\n",
              "popDe20a24      158\n",
              "popDe25a34      160\n",
              "popDe35a49      159\n",
              "popDe50a59      159\n",
              "popMaisDe60     157\n",
              "domiciliosA1     41\n",
              "domiciliosA2    106\n",
              "domiciliosB1    153\n",
              "domiciliosB2    155\n",
              "domiciliosC1    158\n",
              "domiciliosC2    159\n",
              "domiciliosD     143\n",
              "domiciliosE     158\n",
              "rendaMedia      146\n",
              "faturamento     160\n",
              "dtype: int64"
            ]
          },
          "metadata": {
            "tags": []
          },
          "execution_count": 557
        }
      ]
    },
    {
      "cell_type": "markdown",
      "metadata": {
        "id": "HLjPr4tiBUYE"
      },
      "source": [
        "\n",
        "6 Valores ausentes em 'rendaMedia'"
      ]
    },
    {
      "cell_type": "code",
      "metadata": {
        "colab": {
          "base_uri": "https://localhost:8080/"
        },
        "id": "80qXDU3VLnor",
        "outputId": "2900dbfe-91d6-40e8-b932-a07a8fa9449e"
      },
      "source": [
        "dt.info() "
      ],
      "execution_count": null,
      "outputs": [
        {
          "output_type": "stream",
          "text": [
            "<class 'pandas.core.frame.DataFrame'>\n",
            "RangeIndex: 160 entries, 0 to 159\n",
            "Data columns (total 23 columns):\n",
            " #   Column        Non-Null Count  Dtype  \n",
            "---  ------        --------------  -----  \n",
            " 0   codigo        160 non-null    int64  \n",
            " 1   nome          160 non-null    object \n",
            " 2   cidade        160 non-null    object \n",
            " 3   estado        160 non-null    object \n",
            " 4   população     160 non-null    int64  \n",
            " 5   popAte9       160 non-null    int64  \n",
            " 6   popDe10a14    160 non-null    int64  \n",
            " 7   popDe15a19    160 non-null    int64  \n",
            " 8   popDe20a24    160 non-null    int64  \n",
            " 9   popDe25a34    160 non-null    int64  \n",
            " 10  popDe35a49    160 non-null    int64  \n",
            " 11  popDe50a59    160 non-null    int64  \n",
            " 12  popMaisDe60   160 non-null    int64  \n",
            " 13  domiciliosA1  160 non-null    int64  \n",
            " 14  domiciliosA2  160 non-null    int64  \n",
            " 15  domiciliosB1  160 non-null    int64  \n",
            " 16  domiciliosB2  160 non-null    int64  \n",
            " 17  domiciliosC1  160 non-null    int64  \n",
            " 18  domiciliosC2  160 non-null    int64  \n",
            " 19  domiciliosD   160 non-null    int64  \n",
            " 20  domiciliosE   160 non-null    int64  \n",
            " 21  rendaMedia    154 non-null    float64\n",
            " 22  faturamento   160 non-null    float64\n",
            "dtypes: float64(2), int64(18), object(3)\n",
            "memory usage: 28.9+ KB\n"
          ],
          "name": "stdout"
        }
      ]
    },
    {
      "cell_type": "markdown",
      "metadata": {
        "id": "QOajz2iwS95c"
      },
      "source": [
        "Verificando quais os bairros estão com dados ausentes na coluna Renda média por domicílio ('rendaMedia')\n",
        "\n",
        "iloc  -  Bairro\n",
        "\n",
        "6    -   Anil\n",
        "\n",
        "26   -  Catumbi\n",
        "\n",
        "52   -   Freguesia (Jacarepaguá)\n",
        "\n",
        "71   -   Jacaré\n",
        "\n",
        "89   -   Maracanã\n",
        "\n",
        "122  -   Rio Comprido\n"
      ]
    },
    {
      "cell_type": "code",
      "metadata": {
        "id": "Q66CsX76Mu7y"
      },
      "source": [
        "NaRenda = dt[dt.isna().any(axis=1)]"
      ],
      "execution_count": null,
      "outputs": []
    },
    {
      "cell_type": "code",
      "metadata": {
        "colab": {
          "base_uri": "https://localhost:8080/",
          "height": 360
        },
        "id": "1vQEfbmNM76L",
        "outputId": "3ef11945-e7f9-4e36-fcd0-a46b828bc090"
      },
      "source": [
        "NaRenda"
      ],
      "execution_count": null,
      "outputs": [
        {
          "output_type": "execute_result",
          "data": {
            "text/html": [
              "<div>\n",
              "<style scoped>\n",
              "    .dataframe tbody tr th:only-of-type {\n",
              "        vertical-align: middle;\n",
              "    }\n",
              "\n",
              "    .dataframe tbody tr th {\n",
              "        vertical-align: top;\n",
              "    }\n",
              "\n",
              "    .dataframe thead th {\n",
              "        text-align: right;\n",
              "    }\n",
              "</style>\n",
              "<table border=\"1\" class=\"dataframe\">\n",
              "  <thead>\n",
              "    <tr style=\"text-align: right;\">\n",
              "      <th></th>\n",
              "      <th>codigo</th>\n",
              "      <th>nome</th>\n",
              "      <th>cidade</th>\n",
              "      <th>estado</th>\n",
              "      <th>população</th>\n",
              "      <th>popAte9</th>\n",
              "      <th>popDe10a14</th>\n",
              "      <th>popDe15a19</th>\n",
              "      <th>popDe20a24</th>\n",
              "      <th>popDe25a34</th>\n",
              "      <th>popDe35a49</th>\n",
              "      <th>popDe50a59</th>\n",
              "      <th>popMaisDe60</th>\n",
              "      <th>domiciliosA1</th>\n",
              "      <th>domiciliosA2</th>\n",
              "      <th>domiciliosB1</th>\n",
              "      <th>domiciliosB2</th>\n",
              "      <th>domiciliosC1</th>\n",
              "      <th>domiciliosC2</th>\n",
              "      <th>domiciliosD</th>\n",
              "      <th>domiciliosE</th>\n",
              "      <th>rendaMedia</th>\n",
              "      <th>faturamento</th>\n",
              "    </tr>\n",
              "  </thead>\n",
              "  <tbody>\n",
              "    <tr>\n",
              "      <th>6</th>\n",
              "      <td>3304557082</td>\n",
              "      <td>Anil</td>\n",
              "      <td>Rio de Janeiro</td>\n",
              "      <td>RJ</td>\n",
              "      <td>24855</td>\n",
              "      <td>2427</td>\n",
              "      <td>1227</td>\n",
              "      <td>1777</td>\n",
              "      <td>1804</td>\n",
              "      <td>3730</td>\n",
              "      <td>5573</td>\n",
              "      <td>3556</td>\n",
              "      <td>4761</td>\n",
              "      <td>355</td>\n",
              "      <td>759</td>\n",
              "      <td>1771</td>\n",
              "      <td>1863</td>\n",
              "      <td>1902</td>\n",
              "      <td>1155</td>\n",
              "      <td>326</td>\n",
              "      <td>424</td>\n",
              "      <td>NaN</td>\n",
              "      <td>1092081.0</td>\n",
              "    </tr>\n",
              "    <tr>\n",
              "      <th>26</th>\n",
              "      <td>3304557005</td>\n",
              "      <td>Catumbi</td>\n",
              "      <td>Rio de Janeiro</td>\n",
              "      <td>RJ</td>\n",
              "      <td>12910</td>\n",
              "      <td>1773</td>\n",
              "      <td>805</td>\n",
              "      <td>1018</td>\n",
              "      <td>999</td>\n",
              "      <td>1985</td>\n",
              "      <td>2526</td>\n",
              "      <td>1516</td>\n",
              "      <td>2288</td>\n",
              "      <td>0</td>\n",
              "      <td>18</td>\n",
              "      <td>261</td>\n",
              "      <td>640</td>\n",
              "      <td>1281</td>\n",
              "      <td>1140</td>\n",
              "      <td>229</td>\n",
              "      <td>703</td>\n",
              "      <td>NaN</td>\n",
              "      <td>791170.0</td>\n",
              "    </tr>\n",
              "    <tr>\n",
              "      <th>52</th>\n",
              "      <td>3304557086</td>\n",
              "      <td>Freguesia (Jacarepaguá)</td>\n",
              "      <td>Rio de Janeiro</td>\n",
              "      <td>RJ</td>\n",
              "      <td>72501</td>\n",
              "      <td>7991</td>\n",
              "      <td>3709</td>\n",
              "      <td>5257</td>\n",
              "      <td>5159</td>\n",
              "      <td>10923</td>\n",
              "      <td>16875</td>\n",
              "      <td>9607</td>\n",
              "      <td>12980</td>\n",
              "      <td>698</td>\n",
              "      <td>2569</td>\n",
              "      <td>6042</td>\n",
              "      <td>4941</td>\n",
              "      <td>5055</td>\n",
              "      <td>3919</td>\n",
              "      <td>704</td>\n",
              "      <td>1670</td>\n",
              "      <td>NaN</td>\n",
              "      <td>1297388.0</td>\n",
              "    </tr>\n",
              "    <tr>\n",
              "      <th>71</th>\n",
              "      <td>3304557146</td>\n",
              "      <td>Jacaré</td>\n",
              "      <td>Rio de Janeiro</td>\n",
              "      <td>RJ</td>\n",
              "      <td>9538</td>\n",
              "      <td>1326</td>\n",
              "      <td>629</td>\n",
              "      <td>763</td>\n",
              "      <td>712</td>\n",
              "      <td>1547</td>\n",
              "      <td>1921</td>\n",
              "      <td>1108</td>\n",
              "      <td>1532</td>\n",
              "      <td>0</td>\n",
              "      <td>15</td>\n",
              "      <td>161</td>\n",
              "      <td>492</td>\n",
              "      <td>633</td>\n",
              "      <td>792</td>\n",
              "      <td>197</td>\n",
              "      <td>540</td>\n",
              "      <td>NaN</td>\n",
              "      <td>822849.0</td>\n",
              "    </tr>\n",
              "    <tr>\n",
              "      <th>89</th>\n",
              "      <td>3304557032</td>\n",
              "      <td>Maracanã</td>\n",
              "      <td>Rio de Janeiro</td>\n",
              "      <td>RJ</td>\n",
              "      <td>25969</td>\n",
              "      <td>1696</td>\n",
              "      <td>843</td>\n",
              "      <td>1370</td>\n",
              "      <td>1921</td>\n",
              "      <td>4020</td>\n",
              "      <td>5134</td>\n",
              "      <td>4124</td>\n",
              "      <td>6861</td>\n",
              "      <td>739</td>\n",
              "      <td>1695</td>\n",
              "      <td>3191</td>\n",
              "      <td>1924</td>\n",
              "      <td>1522</td>\n",
              "      <td>877</td>\n",
              "      <td>0</td>\n",
              "      <td>497</td>\n",
              "      <td>NaN</td>\n",
              "      <td>1384873.0</td>\n",
              "    </tr>\n",
              "    <tr>\n",
              "      <th>122</th>\n",
              "      <td>3304557006</td>\n",
              "      <td>Rio Comprido</td>\n",
              "      <td>Rio de Janeiro</td>\n",
              "      <td>RJ</td>\n",
              "      <td>44998</td>\n",
              "      <td>5332</td>\n",
              "      <td>2397</td>\n",
              "      <td>3448</td>\n",
              "      <td>3757</td>\n",
              "      <td>7160</td>\n",
              "      <td>9375</td>\n",
              "      <td>5527</td>\n",
              "      <td>8002</td>\n",
              "      <td>0</td>\n",
              "      <td>387</td>\n",
              "      <td>2119</td>\n",
              "      <td>2775</td>\n",
              "      <td>3715</td>\n",
              "      <td>3930</td>\n",
              "      <td>617</td>\n",
              "      <td>1681</td>\n",
              "      <td>NaN</td>\n",
              "      <td>789463.0</td>\n",
              "    </tr>\n",
              "  </tbody>\n",
              "</table>\n",
              "</div>"
            ],
            "text/plain": [
              "         codigo                     nome  ... rendaMedia faturamento\n",
              "6    3304557082                     Anil  ...        NaN   1092081.0\n",
              "26   3304557005                  Catumbi  ...        NaN    791170.0\n",
              "52   3304557086  Freguesia (Jacarepaguá)  ...        NaN   1297388.0\n",
              "71   3304557146                   Jacaré  ...        NaN    822849.0\n",
              "89   3304557032                 Maracanã  ...        NaN   1384873.0\n",
              "122  3304557006             Rio Comprido  ...        NaN    789463.0\n",
              "\n",
              "[6 rows x 23 columns]"
            ]
          },
          "metadata": {
            "tags": []
          },
          "execution_count": 560
        }
      ]
    },
    {
      "cell_type": "markdown",
      "metadata": {
        "id": "LGW8EvA_BAQX"
      },
      "source": [
        "#Feature Engineering"
      ]
    },
    {
      "cell_type": "markdown",
      "metadata": {
        "id": "wPPmtd1GXFb_"
      },
      "source": [
        "Tomei a decisão de encontrar fontes e preencher valores para os dados faltantes, evitando a necessidade de deletar as amostras com dados faltantes\n",
        "(dt.dropna(inplace=True)) de um dataset pequeno. \n",
        "\n",
        "Os valores para renda média por domicílio aferidos a partir da renda per capita disponibilizados pela FGV em:\n",
        "\n",
        "https://cps.fgv.br/r-renda-capita-populacao-total-e-favelas-bairros-rio-de-janeiro\n",
        "\n",
        "Este valor é multiplicado por 2.9, que é média de habitantes por domicílio de acordo com o IBGE :\n",
        "\n",
        "https://sidra.ibge.gov.br/tabela/6578\n",
        "\n",
        "\n",
        "No caso dos bairros que não estão explicitamente descritos foram utilizados os valores de bairros proximos já presentes no dataset\n",
        "\n",
        "Rio Comprido e Catumbi- Centro\n",
        "\n",
        "Jacaré - Rocha \n",
        "\n"
      ]
    },
    {
      "cell_type": "code",
      "metadata": {
        "id": "uw_fACPHSadC"
      },
      "source": [
        "dt.at[6,'rendaMedia'] = (1535*2.9)\n",
        "dt.at[26,'rendaMedia'] = 2186         # Centro\n",
        "dt.at[52,'rendaMedia'] = (1658*2.9)\n",
        "dt.at[71,'rendaMedia'] = 2667         # Rocha\n",
        "dt.at[89,'rendaMedia'] = (2447*2.9)\n",
        "dt.at[122,'rendaMedia'] = 2186        # Centro"
      ],
      "execution_count": null,
      "outputs": []
    },
    {
      "cell_type": "code",
      "metadata": {
        "colab": {
          "base_uri": "https://localhost:8080/",
          "height": 118
        },
        "id": "Z2Au8BPKHwKr",
        "outputId": "e3aed16e-c8ea-493d-8479-03c3d0835c97"
      },
      "source": [
        "dt.loc[[52]] #Verificando 1 entrada"
      ],
      "execution_count": null,
      "outputs": [
        {
          "output_type": "execute_result",
          "data": {
            "text/html": [
              "<div>\n",
              "<style scoped>\n",
              "    .dataframe tbody tr th:only-of-type {\n",
              "        vertical-align: middle;\n",
              "    }\n",
              "\n",
              "    .dataframe tbody tr th {\n",
              "        vertical-align: top;\n",
              "    }\n",
              "\n",
              "    .dataframe thead th {\n",
              "        text-align: right;\n",
              "    }\n",
              "</style>\n",
              "<table border=\"1\" class=\"dataframe\">\n",
              "  <thead>\n",
              "    <tr style=\"text-align: right;\">\n",
              "      <th></th>\n",
              "      <th>codigo</th>\n",
              "      <th>nome</th>\n",
              "      <th>cidade</th>\n",
              "      <th>estado</th>\n",
              "      <th>população</th>\n",
              "      <th>popAte9</th>\n",
              "      <th>popDe10a14</th>\n",
              "      <th>popDe15a19</th>\n",
              "      <th>popDe20a24</th>\n",
              "      <th>popDe25a34</th>\n",
              "      <th>popDe35a49</th>\n",
              "      <th>popDe50a59</th>\n",
              "      <th>popMaisDe60</th>\n",
              "      <th>domiciliosA1</th>\n",
              "      <th>domiciliosA2</th>\n",
              "      <th>domiciliosB1</th>\n",
              "      <th>domiciliosB2</th>\n",
              "      <th>domiciliosC1</th>\n",
              "      <th>domiciliosC2</th>\n",
              "      <th>domiciliosD</th>\n",
              "      <th>domiciliosE</th>\n",
              "      <th>rendaMedia</th>\n",
              "      <th>faturamento</th>\n",
              "    </tr>\n",
              "  </thead>\n",
              "  <tbody>\n",
              "    <tr>\n",
              "      <th>52</th>\n",
              "      <td>3304557086</td>\n",
              "      <td>Freguesia (Jacarepaguá)</td>\n",
              "      <td>Rio de Janeiro</td>\n",
              "      <td>RJ</td>\n",
              "      <td>72501</td>\n",
              "      <td>7991</td>\n",
              "      <td>3709</td>\n",
              "      <td>5257</td>\n",
              "      <td>5159</td>\n",
              "      <td>10923</td>\n",
              "      <td>16875</td>\n",
              "      <td>9607</td>\n",
              "      <td>12980</td>\n",
              "      <td>698</td>\n",
              "      <td>2569</td>\n",
              "      <td>6042</td>\n",
              "      <td>4941</td>\n",
              "      <td>5055</td>\n",
              "      <td>3919</td>\n",
              "      <td>704</td>\n",
              "      <td>1670</td>\n",
              "      <td>4808.2</td>\n",
              "      <td>1297388.0</td>\n",
              "    </tr>\n",
              "  </tbody>\n",
              "</table>\n",
              "</div>"
            ],
            "text/plain": [
              "        codigo                     nome  ... rendaMedia faturamento\n",
              "52  3304557086  Freguesia (Jacarepaguá)  ...     4808.2   1297388.0\n",
              "\n",
              "[1 rows x 23 columns]"
            ]
          },
          "metadata": {
            "tags": []
          },
          "execution_count": 562
        }
      ]
    },
    {
      "cell_type": "markdown",
      "metadata": {
        "id": "3sLKsYrEifcE"
      },
      "source": [
        "Outros dados gerais, como média, desvio padrão, valores mínimo, máximo."
      ]
    },
    {
      "cell_type": "code",
      "metadata": {
        "colab": {
          "base_uri": "https://localhost:8080/",
          "height": 319
        },
        "id": "3e4h68-CLrUD",
        "outputId": "7e674fdb-7e59-4eb1-d917-e26f9dbfb888"
      },
      "source": [
        "dt.describe()"
      ],
      "execution_count": null,
      "outputs": [
        {
          "output_type": "execute_result",
          "data": {
            "text/html": [
              "<div>\n",
              "<style scoped>\n",
              "    .dataframe tbody tr th:only-of-type {\n",
              "        vertical-align: middle;\n",
              "    }\n",
              "\n",
              "    .dataframe tbody tr th {\n",
              "        vertical-align: top;\n",
              "    }\n",
              "\n",
              "    .dataframe thead th {\n",
              "        text-align: right;\n",
              "    }\n",
              "</style>\n",
              "<table border=\"1\" class=\"dataframe\">\n",
              "  <thead>\n",
              "    <tr style=\"text-align: right;\">\n",
              "      <th></th>\n",
              "      <th>codigo</th>\n",
              "      <th>população</th>\n",
              "      <th>popAte9</th>\n",
              "      <th>popDe10a14</th>\n",
              "      <th>popDe15a19</th>\n",
              "      <th>popDe20a24</th>\n",
              "      <th>popDe25a34</th>\n",
              "      <th>popDe35a49</th>\n",
              "      <th>popDe50a59</th>\n",
              "      <th>popMaisDe60</th>\n",
              "      <th>domiciliosA1</th>\n",
              "      <th>domiciliosA2</th>\n",
              "      <th>domiciliosB1</th>\n",
              "      <th>domiciliosB2</th>\n",
              "      <th>domiciliosC1</th>\n",
              "      <th>domiciliosC2</th>\n",
              "      <th>domiciliosD</th>\n",
              "      <th>domiciliosE</th>\n",
              "      <th>rendaMedia</th>\n",
              "      <th>faturamento</th>\n",
              "    </tr>\n",
              "  </thead>\n",
              "  <tbody>\n",
              "    <tr>\n",
              "      <th>count</th>\n",
              "      <td>1.600000e+02</td>\n",
              "      <td>160.000000</td>\n",
              "      <td>160.00000</td>\n",
              "      <td>160.000000</td>\n",
              "      <td>160.000000</td>\n",
              "      <td>160.000000</td>\n",
              "      <td>160.000000</td>\n",
              "      <td>160.000000</td>\n",
              "      <td>160.000000</td>\n",
              "      <td>160.000000</td>\n",
              "      <td>160.000000</td>\n",
              "      <td>160.000000</td>\n",
              "      <td>160.000000</td>\n",
              "      <td>160.000000</td>\n",
              "      <td>160.000000</td>\n",
              "      <td>160.000000</td>\n",
              "      <td>160.00000</td>\n",
              "      <td>160.000000</td>\n",
              "      <td>160.000000</td>\n",
              "      <td>1.600000e+02</td>\n",
              "    </tr>\n",
              "    <tr>\n",
              "      <th>mean</th>\n",
              "      <td>3.304557e+09</td>\n",
              "      <td>42654.350000</td>\n",
              "      <td>5329.06250</td>\n",
              "      <td>2484.443750</td>\n",
              "      <td>3272.156250</td>\n",
              "      <td>3349.381250</td>\n",
              "      <td>6584.475000</td>\n",
              "      <td>8826.862500</td>\n",
              "      <td>5332.262500</td>\n",
              "      <td>7475.706250</td>\n",
              "      <td>388.475000</td>\n",
              "      <td>608.268750</td>\n",
              "      <td>1871.562500</td>\n",
              "      <td>2385.075000</td>\n",
              "      <td>3539.850000</td>\n",
              "      <td>3030.806250</td>\n",
              "      <td>568.37500</td>\n",
              "      <td>1821.612500</td>\n",
              "      <td>3618.987500</td>\n",
              "      <td>8.761600e+05</td>\n",
              "    </tr>\n",
              "    <tr>\n",
              "      <th>std</th>\n",
              "      <td>4.633213e+01</td>\n",
              "      <td>64262.949072</td>\n",
              "      <td>10816.19977</td>\n",
              "      <td>4948.827166</td>\n",
              "      <td>5752.156303</td>\n",
              "      <td>5601.893201</td>\n",
              "      <td>9049.895783</td>\n",
              "      <td>11536.276416</td>\n",
              "      <td>7986.261929</td>\n",
              "      <td>10258.307743</td>\n",
              "      <td>1403.605232</td>\n",
              "      <td>1535.237669</td>\n",
              "      <td>2973.530791</td>\n",
              "      <td>2779.071565</td>\n",
              "      <td>4324.539462</td>\n",
              "      <td>4003.047836</td>\n",
              "      <td>823.92034</td>\n",
              "      <td>2292.079295</td>\n",
              "      <td>5985.930278</td>\n",
              "      <td>4.382106e+05</td>\n",
              "    </tr>\n",
              "    <tr>\n",
              "      <th>min</th>\n",
              "      <td>3.304557e+09</td>\n",
              "      <td>173.000000</td>\n",
              "      <td>33.00000</td>\n",
              "      <td>13.000000</td>\n",
              "      <td>22.000000</td>\n",
              "      <td>17.000000</td>\n",
              "      <td>28.000000</td>\n",
              "      <td>38.000000</td>\n",
              "      <td>10.000000</td>\n",
              "      <td>12.000000</td>\n",
              "      <td>0.000000</td>\n",
              "      <td>0.000000</td>\n",
              "      <td>0.000000</td>\n",
              "      <td>0.000000</td>\n",
              "      <td>5.000000</td>\n",
              "      <td>3.000000</td>\n",
              "      <td>0.00000</td>\n",
              "      <td>2.000000</td>\n",
              "      <td>654.000000</td>\n",
              "      <td>2.465100e+04</td>\n",
              "    </tr>\n",
              "    <tr>\n",
              "      <th>25%</th>\n",
              "      <td>3.304557e+09</td>\n",
              "      <td>13362.750000</td>\n",
              "      <td>1512.75000</td>\n",
              "      <td>690.750000</td>\n",
              "      <td>945.000000</td>\n",
              "      <td>994.750000</td>\n",
              "      <td>2131.250000</td>\n",
              "      <td>2900.750000</td>\n",
              "      <td>1598.750000</td>\n",
              "      <td>2118.250000</td>\n",
              "      <td>0.000000</td>\n",
              "      <td>0.000000</td>\n",
              "      <td>391.500000</td>\n",
              "      <td>716.000000</td>\n",
              "      <td>1088.750000</td>\n",
              "      <td>789.750000</td>\n",
              "      <td>117.75000</td>\n",
              "      <td>431.500000</td>\n",
              "      <td>1498.000000</td>\n",
              "      <td>7.112785e+05</td>\n",
              "    </tr>\n",
              "    <tr>\n",
              "      <th>50%</th>\n",
              "      <td>3.304557e+09</td>\n",
              "      <td>26076.000000</td>\n",
              "      <td>3111.50000</td>\n",
              "      <td>1434.000000</td>\n",
              "      <td>2015.000000</td>\n",
              "      <td>2142.500000</td>\n",
              "      <td>4170.500000</td>\n",
              "      <td>5657.000000</td>\n",
              "      <td>3371.500000</td>\n",
              "      <td>4575.500000</td>\n",
              "      <td>0.000000</td>\n",
              "      <td>107.500000</td>\n",
              "      <td>848.000000</td>\n",
              "      <td>1536.000000</td>\n",
              "      <td>2394.500000</td>\n",
              "      <td>1861.500000</td>\n",
              "      <td>327.50000</td>\n",
              "      <td>1042.500000</td>\n",
              "      <td>1944.000000</td>\n",
              "      <td>8.242285e+05</td>\n",
              "    </tr>\n",
              "    <tr>\n",
              "      <th>75%</th>\n",
              "      <td>3.304557e+09</td>\n",
              "      <td>46504.500000</td>\n",
              "      <td>5622.25000</td>\n",
              "      <td>2621.500000</td>\n",
              "      <td>3448.750000</td>\n",
              "      <td>3451.750000</td>\n",
              "      <td>7145.250000</td>\n",
              "      <td>9586.750000</td>\n",
              "      <td>6333.250000</td>\n",
              "      <td>9196.000000</td>\n",
              "      <td>1.000000</td>\n",
              "      <td>430.500000</td>\n",
              "      <td>1962.500000</td>\n",
              "      <td>3065.750000</td>\n",
              "      <td>4203.000000</td>\n",
              "      <td>3652.500000</td>\n",
              "      <td>694.00000</td>\n",
              "      <td>2138.250000</td>\n",
              "      <td>2986.750000</td>\n",
              "      <td>9.343208e+05</td>\n",
              "    </tr>\n",
              "    <tr>\n",
              "      <th>max</th>\n",
              "      <td>3.304557e+09</td>\n",
              "      <td>667603.000000</td>\n",
              "      <td>122578.00000</td>\n",
              "      <td>55935.000000</td>\n",
              "      <td>62342.000000</td>\n",
              "      <td>60567.000000</td>\n",
              "      <td>86116.000000</td>\n",
              "      <td>105316.000000</td>\n",
              "      <td>83341.000000</td>\n",
              "      <td>91408.000000</td>\n",
              "      <td>13408.000000</td>\n",
              "      <td>11668.000000</td>\n",
              "      <td>19350.000000</td>\n",
              "      <td>21237.000000</td>\n",
              "      <td>33111.000000</td>\n",
              "      <td>25779.000000</td>\n",
              "      <td>4956.00000</td>\n",
              "      <td>14833.000000</td>\n",
              "      <td>63887.000000</td>\n",
              "      <td>2.915612e+06</td>\n",
              "    </tr>\n",
              "  </tbody>\n",
              "</table>\n",
              "</div>"
            ],
            "text/plain": [
              "             codigo      população  ...    rendaMedia   faturamento\n",
              "count  1.600000e+02     160.000000  ...    160.000000  1.600000e+02\n",
              "mean   3.304557e+09   42654.350000  ...   3618.987500  8.761600e+05\n",
              "std    4.633213e+01   64262.949072  ...   5985.930278  4.382106e+05\n",
              "min    3.304557e+09     173.000000  ...    654.000000  2.465100e+04\n",
              "25%    3.304557e+09   13362.750000  ...   1498.000000  7.112785e+05\n",
              "50%    3.304557e+09   26076.000000  ...   1944.000000  8.242285e+05\n",
              "75%    3.304557e+09   46504.500000  ...   2986.750000  9.343208e+05\n",
              "max    3.304557e+09  667603.000000  ...  63887.000000  2.915612e+06\n",
              "\n",
              "[8 rows x 20 columns]"
            ]
          },
          "metadata": {
            "tags": []
          },
          "execution_count": 563
        }
      ]
    },
    {
      "cell_type": "markdown",
      "metadata": {
        "id": "Z7XGoy0sj_dA"
      },
      "source": [
        "Chama a atenção alguns valores, como o população total (menor bairro com  173 pessoas e maior 667.603).\n",
        "\n",
        "Ainda que valores muito distantes podem afetar os modelos de regressão, os valores por faixa etária são validados pela coluna 'população'. Por isso irei manter os dados de população por faixa etária sem nenhum tipo de censura (Trimming ou Winsorização).\t"
      ]
    },
    {
      "cell_type": "code",
      "metadata": {
        "id": "Tba6pADQuvIT"
      },
      "source": [
        "dt['PopDiff'] = dt['população']-(dt['popAte9']+dt['popDe10a14']\n",
        "+dt['popDe15a19']+dt['popDe20a24']+dt['popDe25a34']+dt['popDe35a49']\n",
        "+dt['popDe50a59']+dt['popMaisDe60'])"
      ],
      "execution_count": null,
      "outputs": []
    },
    {
      "cell_type": "code",
      "metadata": {
        "colab": {
          "base_uri": "https://localhost:8080/"
        },
        "id": "RCIFcxTkzPi5",
        "outputId": "cbc8921e-3406-434b-9ea5-85a9f530f9b1"
      },
      "source": [
        "dt['PopDiff'].describe()"
      ],
      "execution_count": null,
      "outputs": [
        {
          "output_type": "execute_result",
          "data": {
            "text/plain": [
              "count    160.0\n",
              "mean       0.0\n",
              "std        0.0\n",
              "min        0.0\n",
              "25%        0.0\n",
              "50%        0.0\n",
              "75%        0.0\n",
              "max        0.0\n",
              "Name: PopDiff, dtype: float64"
            ]
          },
          "metadata": {
            "tags": []
          },
          "execution_count": 565
        }
      ]
    },
    {
      "cell_type": "code",
      "metadata": {
        "colab": {
          "base_uri": "https://localhost:8080/",
          "height": 319
        },
        "id": "fzZmiRDm0OzW",
        "outputId": "f25683ac-029c-4862-9d92-d91d335816a9"
      },
      "source": [
        "dt.describe()"
      ],
      "execution_count": null,
      "outputs": [
        {
          "output_type": "execute_result",
          "data": {
            "text/html": [
              "<div>\n",
              "<style scoped>\n",
              "    .dataframe tbody tr th:only-of-type {\n",
              "        vertical-align: middle;\n",
              "    }\n",
              "\n",
              "    .dataframe tbody tr th {\n",
              "        vertical-align: top;\n",
              "    }\n",
              "\n",
              "    .dataframe thead th {\n",
              "        text-align: right;\n",
              "    }\n",
              "</style>\n",
              "<table border=\"1\" class=\"dataframe\">\n",
              "  <thead>\n",
              "    <tr style=\"text-align: right;\">\n",
              "      <th></th>\n",
              "      <th>codigo</th>\n",
              "      <th>população</th>\n",
              "      <th>popAte9</th>\n",
              "      <th>popDe10a14</th>\n",
              "      <th>popDe15a19</th>\n",
              "      <th>popDe20a24</th>\n",
              "      <th>popDe25a34</th>\n",
              "      <th>popDe35a49</th>\n",
              "      <th>popDe50a59</th>\n",
              "      <th>popMaisDe60</th>\n",
              "      <th>domiciliosA1</th>\n",
              "      <th>domiciliosA2</th>\n",
              "      <th>domiciliosB1</th>\n",
              "      <th>domiciliosB2</th>\n",
              "      <th>domiciliosC1</th>\n",
              "      <th>domiciliosC2</th>\n",
              "      <th>domiciliosD</th>\n",
              "      <th>domiciliosE</th>\n",
              "      <th>rendaMedia</th>\n",
              "      <th>faturamento</th>\n",
              "      <th>PopDiff</th>\n",
              "    </tr>\n",
              "  </thead>\n",
              "  <tbody>\n",
              "    <tr>\n",
              "      <th>count</th>\n",
              "      <td>1.600000e+02</td>\n",
              "      <td>160.000000</td>\n",
              "      <td>160.00000</td>\n",
              "      <td>160.000000</td>\n",
              "      <td>160.000000</td>\n",
              "      <td>160.000000</td>\n",
              "      <td>160.000000</td>\n",
              "      <td>160.000000</td>\n",
              "      <td>160.000000</td>\n",
              "      <td>160.000000</td>\n",
              "      <td>160.000000</td>\n",
              "      <td>160.000000</td>\n",
              "      <td>160.000000</td>\n",
              "      <td>160.000000</td>\n",
              "      <td>160.000000</td>\n",
              "      <td>160.000000</td>\n",
              "      <td>160.00000</td>\n",
              "      <td>160.000000</td>\n",
              "      <td>160.000000</td>\n",
              "      <td>1.600000e+02</td>\n",
              "      <td>160.0</td>\n",
              "    </tr>\n",
              "    <tr>\n",
              "      <th>mean</th>\n",
              "      <td>3.304557e+09</td>\n",
              "      <td>42654.350000</td>\n",
              "      <td>5329.06250</td>\n",
              "      <td>2484.443750</td>\n",
              "      <td>3272.156250</td>\n",
              "      <td>3349.381250</td>\n",
              "      <td>6584.475000</td>\n",
              "      <td>8826.862500</td>\n",
              "      <td>5332.262500</td>\n",
              "      <td>7475.706250</td>\n",
              "      <td>388.475000</td>\n",
              "      <td>608.268750</td>\n",
              "      <td>1871.562500</td>\n",
              "      <td>2385.075000</td>\n",
              "      <td>3539.850000</td>\n",
              "      <td>3030.806250</td>\n",
              "      <td>568.37500</td>\n",
              "      <td>1821.612500</td>\n",
              "      <td>3618.987500</td>\n",
              "      <td>8.761600e+05</td>\n",
              "      <td>0.0</td>\n",
              "    </tr>\n",
              "    <tr>\n",
              "      <th>std</th>\n",
              "      <td>4.633213e+01</td>\n",
              "      <td>64262.949072</td>\n",
              "      <td>10816.19977</td>\n",
              "      <td>4948.827166</td>\n",
              "      <td>5752.156303</td>\n",
              "      <td>5601.893201</td>\n",
              "      <td>9049.895783</td>\n",
              "      <td>11536.276416</td>\n",
              "      <td>7986.261929</td>\n",
              "      <td>10258.307743</td>\n",
              "      <td>1403.605232</td>\n",
              "      <td>1535.237669</td>\n",
              "      <td>2973.530791</td>\n",
              "      <td>2779.071565</td>\n",
              "      <td>4324.539462</td>\n",
              "      <td>4003.047836</td>\n",
              "      <td>823.92034</td>\n",
              "      <td>2292.079295</td>\n",
              "      <td>5985.930278</td>\n",
              "      <td>4.382106e+05</td>\n",
              "      <td>0.0</td>\n",
              "    </tr>\n",
              "    <tr>\n",
              "      <th>min</th>\n",
              "      <td>3.304557e+09</td>\n",
              "      <td>173.000000</td>\n",
              "      <td>33.00000</td>\n",
              "      <td>13.000000</td>\n",
              "      <td>22.000000</td>\n",
              "      <td>17.000000</td>\n",
              "      <td>28.000000</td>\n",
              "      <td>38.000000</td>\n",
              "      <td>10.000000</td>\n",
              "      <td>12.000000</td>\n",
              "      <td>0.000000</td>\n",
              "      <td>0.000000</td>\n",
              "      <td>0.000000</td>\n",
              "      <td>0.000000</td>\n",
              "      <td>5.000000</td>\n",
              "      <td>3.000000</td>\n",
              "      <td>0.00000</td>\n",
              "      <td>2.000000</td>\n",
              "      <td>654.000000</td>\n",
              "      <td>2.465100e+04</td>\n",
              "      <td>0.0</td>\n",
              "    </tr>\n",
              "    <tr>\n",
              "      <th>25%</th>\n",
              "      <td>3.304557e+09</td>\n",
              "      <td>13362.750000</td>\n",
              "      <td>1512.75000</td>\n",
              "      <td>690.750000</td>\n",
              "      <td>945.000000</td>\n",
              "      <td>994.750000</td>\n",
              "      <td>2131.250000</td>\n",
              "      <td>2900.750000</td>\n",
              "      <td>1598.750000</td>\n",
              "      <td>2118.250000</td>\n",
              "      <td>0.000000</td>\n",
              "      <td>0.000000</td>\n",
              "      <td>391.500000</td>\n",
              "      <td>716.000000</td>\n",
              "      <td>1088.750000</td>\n",
              "      <td>789.750000</td>\n",
              "      <td>117.75000</td>\n",
              "      <td>431.500000</td>\n",
              "      <td>1498.000000</td>\n",
              "      <td>7.112785e+05</td>\n",
              "      <td>0.0</td>\n",
              "    </tr>\n",
              "    <tr>\n",
              "      <th>50%</th>\n",
              "      <td>3.304557e+09</td>\n",
              "      <td>26076.000000</td>\n",
              "      <td>3111.50000</td>\n",
              "      <td>1434.000000</td>\n",
              "      <td>2015.000000</td>\n",
              "      <td>2142.500000</td>\n",
              "      <td>4170.500000</td>\n",
              "      <td>5657.000000</td>\n",
              "      <td>3371.500000</td>\n",
              "      <td>4575.500000</td>\n",
              "      <td>0.000000</td>\n",
              "      <td>107.500000</td>\n",
              "      <td>848.000000</td>\n",
              "      <td>1536.000000</td>\n",
              "      <td>2394.500000</td>\n",
              "      <td>1861.500000</td>\n",
              "      <td>327.50000</td>\n",
              "      <td>1042.500000</td>\n",
              "      <td>1944.000000</td>\n",
              "      <td>8.242285e+05</td>\n",
              "      <td>0.0</td>\n",
              "    </tr>\n",
              "    <tr>\n",
              "      <th>75%</th>\n",
              "      <td>3.304557e+09</td>\n",
              "      <td>46504.500000</td>\n",
              "      <td>5622.25000</td>\n",
              "      <td>2621.500000</td>\n",
              "      <td>3448.750000</td>\n",
              "      <td>3451.750000</td>\n",
              "      <td>7145.250000</td>\n",
              "      <td>9586.750000</td>\n",
              "      <td>6333.250000</td>\n",
              "      <td>9196.000000</td>\n",
              "      <td>1.000000</td>\n",
              "      <td>430.500000</td>\n",
              "      <td>1962.500000</td>\n",
              "      <td>3065.750000</td>\n",
              "      <td>4203.000000</td>\n",
              "      <td>3652.500000</td>\n",
              "      <td>694.00000</td>\n",
              "      <td>2138.250000</td>\n",
              "      <td>2986.750000</td>\n",
              "      <td>9.343208e+05</td>\n",
              "      <td>0.0</td>\n",
              "    </tr>\n",
              "    <tr>\n",
              "      <th>max</th>\n",
              "      <td>3.304557e+09</td>\n",
              "      <td>667603.000000</td>\n",
              "      <td>122578.00000</td>\n",
              "      <td>55935.000000</td>\n",
              "      <td>62342.000000</td>\n",
              "      <td>60567.000000</td>\n",
              "      <td>86116.000000</td>\n",
              "      <td>105316.000000</td>\n",
              "      <td>83341.000000</td>\n",
              "      <td>91408.000000</td>\n",
              "      <td>13408.000000</td>\n",
              "      <td>11668.000000</td>\n",
              "      <td>19350.000000</td>\n",
              "      <td>21237.000000</td>\n",
              "      <td>33111.000000</td>\n",
              "      <td>25779.000000</td>\n",
              "      <td>4956.00000</td>\n",
              "      <td>14833.000000</td>\n",
              "      <td>63887.000000</td>\n",
              "      <td>2.915612e+06</td>\n",
              "      <td>0.0</td>\n",
              "    </tr>\n",
              "  </tbody>\n",
              "</table>\n",
              "</div>"
            ],
            "text/plain": [
              "             codigo      população  ...   faturamento  PopDiff\n",
              "count  1.600000e+02     160.000000  ...  1.600000e+02    160.0\n",
              "mean   3.304557e+09   42654.350000  ...  8.761600e+05      0.0\n",
              "std    4.633213e+01   64262.949072  ...  4.382106e+05      0.0\n",
              "min    3.304557e+09     173.000000  ...  2.465100e+04      0.0\n",
              "25%    3.304557e+09   13362.750000  ...  7.112785e+05      0.0\n",
              "50%    3.304557e+09   26076.000000  ...  8.242285e+05      0.0\n",
              "75%    3.304557e+09   46504.500000  ...  9.343208e+05      0.0\n",
              "max    3.304557e+09  667603.000000  ...  2.915612e+06      0.0\n",
              "\n",
              "[8 rows x 21 columns]"
            ]
          },
          "metadata": {
            "tags": []
          },
          "execution_count": 566
        }
      ]
    },
    {
      "cell_type": "markdown",
      "metadata": {
        "id": "sblLZbo--J0C"
      },
      "source": [
        "Entretanto na coluna 'rendaMedia' temos um outlier que apresenta valor de renda domiciliar média de R$ 63.887, mais de 10x a média (que inclui o mesmo). \n",
        "\n",
        "Filtrando os bairros que apresentam renda média domiciliar acima de 15.000 reais, temos somente 7 bairros e nenhum desses ultrapassa a marca de 20.000 reais\n",
        "\n",
        "R$ 63.887 é um valor claramente fora de linha e irreal. \n",
        "\n",
        "Aplicarei as fontes e lógica utilizadas no tratamento de valores ausentes para tratar esse outlier"
      ]
    },
    {
      "cell_type": "code",
      "metadata": {
        "colab": {
          "base_uri": "https://localhost:8080/",
          "height": 426
        },
        "id": "PGwFx_lk8In7",
        "outputId": "f2955b9a-85cc-4cfc-b673-d236fe7b5e93"
      },
      "source": [
        "dt.loc[dt['rendaMedia'] > 15000]"
      ],
      "execution_count": null,
      "outputs": [
        {
          "output_type": "execute_result",
          "data": {
            "text/html": [
              "<div>\n",
              "<style scoped>\n",
              "    .dataframe tbody tr th:only-of-type {\n",
              "        vertical-align: middle;\n",
              "    }\n",
              "\n",
              "    .dataframe tbody tr th {\n",
              "        vertical-align: top;\n",
              "    }\n",
              "\n",
              "    .dataframe thead th {\n",
              "        text-align: right;\n",
              "    }\n",
              "</style>\n",
              "<table border=\"1\" class=\"dataframe\">\n",
              "  <thead>\n",
              "    <tr style=\"text-align: right;\">\n",
              "      <th></th>\n",
              "      <th>codigo</th>\n",
              "      <th>nome</th>\n",
              "      <th>cidade</th>\n",
              "      <th>estado</th>\n",
              "      <th>população</th>\n",
              "      <th>popAte9</th>\n",
              "      <th>popDe10a14</th>\n",
              "      <th>popDe15a19</th>\n",
              "      <th>popDe20a24</th>\n",
              "      <th>popDe25a34</th>\n",
              "      <th>popDe35a49</th>\n",
              "      <th>popDe50a59</th>\n",
              "      <th>popMaisDe60</th>\n",
              "      <th>domiciliosA1</th>\n",
              "      <th>domiciliosA2</th>\n",
              "      <th>domiciliosB1</th>\n",
              "      <th>domiciliosB2</th>\n",
              "      <th>domiciliosC1</th>\n",
              "      <th>domiciliosC2</th>\n",
              "      <th>domiciliosD</th>\n",
              "      <th>domiciliosE</th>\n",
              "      <th>rendaMedia</th>\n",
              "      <th>faturamento</th>\n",
              "      <th>PopDiff</th>\n",
              "    </tr>\n",
              "  </thead>\n",
              "  <tbody>\n",
              "    <tr>\n",
              "      <th>9</th>\n",
              "      <td>3304557131</td>\n",
              "      <td>Barra Da Tijuca</td>\n",
              "      <td>Rio de Janeiro</td>\n",
              "      <td>RJ</td>\n",
              "      <td>139761</td>\n",
              "      <td>13038</td>\n",
              "      <td>5225</td>\n",
              "      <td>7432</td>\n",
              "      <td>8627</td>\n",
              "      <td>21914</td>\n",
              "      <td>32089</td>\n",
              "      <td>21058</td>\n",
              "      <td>30378</td>\n",
              "      <td>13408</td>\n",
              "      <td>11668</td>\n",
              "      <td>14820</td>\n",
              "      <td>5205</td>\n",
              "      <td>3437</td>\n",
              "      <td>1841</td>\n",
              "      <td>0</td>\n",
              "      <td>3897</td>\n",
              "      <td>18084.0</td>\n",
              "      <td>2915612.0</td>\n",
              "      <td>0</td>\n",
              "    </tr>\n",
              "    <tr>\n",
              "      <th>56</th>\n",
              "      <td>3304557023</td>\n",
              "      <td>Gávea</td>\n",
              "      <td>Rio de Janeiro</td>\n",
              "      <td>RJ</td>\n",
              "      <td>16455</td>\n",
              "      <td>1210</td>\n",
              "      <td>546</td>\n",
              "      <td>869</td>\n",
              "      <td>1162</td>\n",
              "      <td>2518</td>\n",
              "      <td>3307</td>\n",
              "      <td>2575</td>\n",
              "      <td>4268</td>\n",
              "      <td>1343</td>\n",
              "      <td>1173</td>\n",
              "      <td>1766</td>\n",
              "      <td>979</td>\n",
              "      <td>776</td>\n",
              "      <td>457</td>\n",
              "      <td>0</td>\n",
              "      <td>311</td>\n",
              "      <td>16449.0</td>\n",
              "      <td>1430429.0</td>\n",
              "      <td>0</td>\n",
              "    </tr>\n",
              "    <tr>\n",
              "      <th>68</th>\n",
              "      <td>3304557019</td>\n",
              "      <td>Ipanema</td>\n",
              "      <td>Rio de Janeiro</td>\n",
              "      <td>RJ</td>\n",
              "      <td>43948</td>\n",
              "      <td>3061</td>\n",
              "      <td>1311</td>\n",
              "      <td>1957</td>\n",
              "      <td>2395</td>\n",
              "      <td>5854</td>\n",
              "      <td>8665</td>\n",
              "      <td>6344</td>\n",
              "      <td>14361</td>\n",
              "      <td>4213</td>\n",
              "      <td>3432</td>\n",
              "      <td>4478</td>\n",
              "      <td>2323</td>\n",
              "      <td>2141</td>\n",
              "      <td>1369</td>\n",
              "      <td>117</td>\n",
              "      <td>1460</td>\n",
              "      <td>17188.0</td>\n",
              "      <td>1962438.0</td>\n",
              "      <td>0</td>\n",
              "    </tr>\n",
              "    <tr>\n",
              "      <th>75</th>\n",
              "      <td>3304557022</td>\n",
              "      <td>Jardim Botânico</td>\n",
              "      <td>Rio de Janeiro</td>\n",
              "      <td>RJ</td>\n",
              "      <td>18517</td>\n",
              "      <td>1602</td>\n",
              "      <td>664</td>\n",
              "      <td>945</td>\n",
              "      <td>1008</td>\n",
              "      <td>2788</td>\n",
              "      <td>4135</td>\n",
              "      <td>2822</td>\n",
              "      <td>4553</td>\n",
              "      <td>1641</td>\n",
              "      <td>1273</td>\n",
              "      <td>1913</td>\n",
              "      <td>1108</td>\n",
              "      <td>815</td>\n",
              "      <td>361</td>\n",
              "      <td>0</td>\n",
              "      <td>289</td>\n",
              "      <td>17984.0</td>\n",
              "      <td>1491476.0</td>\n",
              "      <td>0</td>\n",
              "    </tr>\n",
              "    <tr>\n",
              "      <th>79</th>\n",
              "      <td>3304557129</td>\n",
              "      <td>Joá</td>\n",
              "      <td>Rio de Janeiro</td>\n",
              "      <td>RJ</td>\n",
              "      <td>842</td>\n",
              "      <td>61</td>\n",
              "      <td>29</td>\n",
              "      <td>35</td>\n",
              "      <td>46</td>\n",
              "      <td>131</td>\n",
              "      <td>192</td>\n",
              "      <td>132</td>\n",
              "      <td>216</td>\n",
              "      <td>79</td>\n",
              "      <td>59</td>\n",
              "      <td>57</td>\n",
              "      <td>33</td>\n",
              "      <td>7</td>\n",
              "      <td>8</td>\n",
              "      <td>0</td>\n",
              "      <td>20</td>\n",
              "      <td>17659.0</td>\n",
              "      <td>1162364.0</td>\n",
              "      <td>0</td>\n",
              "    </tr>\n",
              "    <tr>\n",
              "      <th>80</th>\n",
              "      <td>3304557021</td>\n",
              "      <td>Lagoa</td>\n",
              "      <td>Rio de Janeiro</td>\n",
              "      <td>RJ</td>\n",
              "      <td>21795</td>\n",
              "      <td>1794</td>\n",
              "      <td>708</td>\n",
              "      <td>1054</td>\n",
              "      <td>1252</td>\n",
              "      <td>2943</td>\n",
              "      <td>4812</td>\n",
              "      <td>3594</td>\n",
              "      <td>5638</td>\n",
              "      <td>2916</td>\n",
              "      <td>2140</td>\n",
              "      <td>1931</td>\n",
              "      <td>697</td>\n",
              "      <td>365</td>\n",
              "      <td>306</td>\n",
              "      <td>0</td>\n",
              "      <td>469</td>\n",
              "      <td>63887.0</td>\n",
              "      <td>1775547.0</td>\n",
              "      <td>0</td>\n",
              "    </tr>\n",
              "    <tr>\n",
              "      <th>131</th>\n",
              "      <td>3304557025</td>\n",
              "      <td>São Conrado</td>\n",
              "      <td>Rio de Janeiro</td>\n",
              "      <td>RJ</td>\n",
              "      <td>11290</td>\n",
              "      <td>885</td>\n",
              "      <td>500</td>\n",
              "      <td>661</td>\n",
              "      <td>726</td>\n",
              "      <td>1464</td>\n",
              "      <td>2463</td>\n",
              "      <td>1741</td>\n",
              "      <td>2850</td>\n",
              "      <td>939</td>\n",
              "      <td>956</td>\n",
              "      <td>744</td>\n",
              "      <td>418</td>\n",
              "      <td>432</td>\n",
              "      <td>356</td>\n",
              "      <td>37</td>\n",
              "      <td>207</td>\n",
              "      <td>17650.0</td>\n",
              "      <td>1330747.0</td>\n",
              "      <td>0</td>\n",
              "    </tr>\n",
              "  </tbody>\n",
              "</table>\n",
              "</div>"
            ],
            "text/plain": [
              "         codigo             nome  ... faturamento PopDiff\n",
              "9    3304557131  Barra Da Tijuca  ...   2915612.0       0\n",
              "56   3304557023            Gávea  ...   1430429.0       0\n",
              "68   3304557019          Ipanema  ...   1962438.0       0\n",
              "75   3304557022  Jardim Botânico  ...   1491476.0       0\n",
              "79   3304557129              Joá  ...   1162364.0       0\n",
              "80   3304557021            Lagoa  ...   1775547.0       0\n",
              "131  3304557025      São Conrado  ...   1330747.0       0\n",
              "\n",
              "[7 rows x 24 columns]"
            ]
          },
          "metadata": {
            "tags": []
          },
          "execution_count": 567
        }
      ]
    },
    {
      "cell_type": "code",
      "metadata": {
        "id": "P9pRmYTfAObS"
      },
      "source": [
        "dt.at[80,'rendaMedia'] = (5635*2.9)"
      ],
      "execution_count": null,
      "outputs": []
    },
    {
      "cell_type": "code",
      "metadata": {
        "colab": {
          "base_uri": "https://localhost:8080/",
          "height": 118
        },
        "id": "9UP6c58vAjtc",
        "outputId": "7b14f3a0-7615-4150-c0ca-90d8e44a2d95"
      },
      "source": [
        "dt.loc[[80]] #Verificando"
      ],
      "execution_count": null,
      "outputs": [
        {
          "output_type": "execute_result",
          "data": {
            "text/html": [
              "<div>\n",
              "<style scoped>\n",
              "    .dataframe tbody tr th:only-of-type {\n",
              "        vertical-align: middle;\n",
              "    }\n",
              "\n",
              "    .dataframe tbody tr th {\n",
              "        vertical-align: top;\n",
              "    }\n",
              "\n",
              "    .dataframe thead th {\n",
              "        text-align: right;\n",
              "    }\n",
              "</style>\n",
              "<table border=\"1\" class=\"dataframe\">\n",
              "  <thead>\n",
              "    <tr style=\"text-align: right;\">\n",
              "      <th></th>\n",
              "      <th>codigo</th>\n",
              "      <th>nome</th>\n",
              "      <th>cidade</th>\n",
              "      <th>estado</th>\n",
              "      <th>população</th>\n",
              "      <th>popAte9</th>\n",
              "      <th>popDe10a14</th>\n",
              "      <th>popDe15a19</th>\n",
              "      <th>popDe20a24</th>\n",
              "      <th>popDe25a34</th>\n",
              "      <th>popDe35a49</th>\n",
              "      <th>popDe50a59</th>\n",
              "      <th>popMaisDe60</th>\n",
              "      <th>domiciliosA1</th>\n",
              "      <th>domiciliosA2</th>\n",
              "      <th>domiciliosB1</th>\n",
              "      <th>domiciliosB2</th>\n",
              "      <th>domiciliosC1</th>\n",
              "      <th>domiciliosC2</th>\n",
              "      <th>domiciliosD</th>\n",
              "      <th>domiciliosE</th>\n",
              "      <th>rendaMedia</th>\n",
              "      <th>faturamento</th>\n",
              "      <th>PopDiff</th>\n",
              "    </tr>\n",
              "  </thead>\n",
              "  <tbody>\n",
              "    <tr>\n",
              "      <th>80</th>\n",
              "      <td>3304557021</td>\n",
              "      <td>Lagoa</td>\n",
              "      <td>Rio de Janeiro</td>\n",
              "      <td>RJ</td>\n",
              "      <td>21795</td>\n",
              "      <td>1794</td>\n",
              "      <td>708</td>\n",
              "      <td>1054</td>\n",
              "      <td>1252</td>\n",
              "      <td>2943</td>\n",
              "      <td>4812</td>\n",
              "      <td>3594</td>\n",
              "      <td>5638</td>\n",
              "      <td>2916</td>\n",
              "      <td>2140</td>\n",
              "      <td>1931</td>\n",
              "      <td>697</td>\n",
              "      <td>365</td>\n",
              "      <td>306</td>\n",
              "      <td>0</td>\n",
              "      <td>469</td>\n",
              "      <td>16341.5</td>\n",
              "      <td>1775547.0</td>\n",
              "      <td>0</td>\n",
              "    </tr>\n",
              "  </tbody>\n",
              "</table>\n",
              "</div>"
            ],
            "text/plain": [
              "        codigo   nome          cidade  ... rendaMedia  faturamento  PopDiff\n",
              "80  3304557021  Lagoa  Rio de Janeiro  ...    16341.5    1775547.0        0\n",
              "\n",
              "[1 rows x 24 columns]"
            ]
          },
          "metadata": {
            "tags": []
          },
          "execution_count": 569
        }
      ]
    },
    {
      "cell_type": "markdown",
      "metadata": {
        "id": "sFN_UwLjCHrY"
      },
      "source": [
        "#Deletando *features* não necessárias\n",
        "\n",
        "['codigo'] - Código na base SQL\n",
        "\n",
        "['cidade'] - Somente a cidade do Rio de Janeiro na base\n",
        "\n",
        "['estado'] - Somente o estado Rio de Janeiro\n",
        "\n",
        "['população'] - Somatória das colunas de população por faixa etária\n",
        "\n",
        "['PopDiff'] - Coluna criada para checagem"
      ]
    },
    {
      "cell_type": "markdown",
      "metadata": {
        "id": "OdEIV1s2RVLo"
      },
      "source": [
        "Por se tratar de um dataset bem pequeno (160 linhas), tentarei agrupar e eliminar o maior número de features (colunas) possíveis afim de evitar um overfitting dos modelos"
      ]
    },
    {
      "cell_type": "code",
      "metadata": {
        "id": "PO_ycAY7OKPK"
      },
      "source": [
        "del dt['codigo']\n",
        "del dt['cidade']\n",
        "del dt['estado']\n",
        "del dt['PopDiff']\n",
        "del dt['população']"
      ],
      "execution_count": null,
      "outputs": []
    },
    {
      "cell_type": "code",
      "metadata": {
        "id": "DTBsfJd_RUQX"
      },
      "source": [
        "dt['Jovens'] = (dt['popAte9']\n",
        "        +dt['popDe10a14']+dt['popDe15a19'])"
      ],
      "execution_count": null,
      "outputs": []
    },
    {
      "cell_type": "code",
      "metadata": {
        "id": "RmVbPx21SKb4"
      },
      "source": [
        "del dt['popAte9']\n",
        "del dt['popDe10a14']\n",
        "del dt['popDe15a19']"
      ],
      "execution_count": null,
      "outputs": []
    },
    {
      "cell_type": "code",
      "metadata": {
        "id": "QkroSMwgSVHV"
      },
      "source": [
        "dt['Adultos'] = (dt['popDe20a24']\n",
        "        +dt['popDe25a34']+dt['popDe35a49'])"
      ],
      "execution_count": null,
      "outputs": []
    },
    {
      "cell_type": "code",
      "metadata": {
        "id": "my7rRMg3Sjz-"
      },
      "source": [
        "del dt['popDe20a24']\n",
        "del dt['popDe25a34']\n",
        "del dt['popDe35a49']"
      ],
      "execution_count": null,
      "outputs": []
    },
    {
      "cell_type": "code",
      "metadata": {
        "id": "G7-eeoQ4Sqn_"
      },
      "source": [
        "dt['Idosos'] = (dt['popDe50a59']\n",
        "        +dt['popMaisDe60'])"
      ],
      "execution_count": null,
      "outputs": []
    },
    {
      "cell_type": "code",
      "metadata": {
        "id": "I3xLPnYeS3ga"
      },
      "source": [
        "del dt['popDe50a59']\n",
        "del dt['popMaisDe60']"
      ],
      "execution_count": null,
      "outputs": []
    },
    {
      "cell_type": "markdown",
      "metadata": {
        "id": "NZclgfEzD4ZV"
      },
      "source": [
        "# Tratando a variável não numérica\n",
        "\n"
      ]
    },
    {
      "cell_type": "markdown",
      "metadata": {
        "id": "kxz31D-oYW6Z"
      },
      "source": [
        "Novamente com o intuito de evitar o aumento de *features* e ocasionar um overfitting, agruparei os bairros em 3 categorias de renda.\n",
        "\n",
        "Os municípios foram categorizados pela renda média domiciliar sendo o primeiro quartil (25%) como baixa renda e no ultimo quartil como alta renda."
      ]
    },
    {
      "cell_type": "code",
      "metadata": {
        "id": "axg-axmYKeAF"
      },
      "source": [
        "def renda(rendaMedia):\n",
        "    if rendaMedia > 3000 :\n",
        "        return 3           #'Alta Renda'\n",
        "    elif rendaMedia < 1500 :\n",
        "        return 1           #'Baixa Renda'\n",
        "    else :\n",
        "        return 2           #'Media Renda'"
      ],
      "execution_count": null,
      "outputs": []
    },
    {
      "cell_type": "code",
      "metadata": {
        "id": "JQF0Yo28DgHi"
      },
      "source": [
        "dt['FaixaRenda'] = dt['rendaMedia'].apply(renda)\n",
        "del dt['nome']"
      ],
      "execution_count": null,
      "outputs": []
    },
    {
      "cell_type": "markdown",
      "metadata": {
        "id": "Jt-yVUD9cgcC"
      },
      "source": [
        "Como os bairros foram agrupados em renda, este tera uma forte correlação com a quantidade de domicílios de Renda A1, A2, B1(...). \n",
        "\n",
        "Por isso vou eliminar essas *features*"
      ]
    },
    {
      "cell_type": "code",
      "metadata": {
        "id": "afCYH_THTEcW"
      },
      "source": [
        "#dt['domiciliosA'] = dt['domiciliosA1']+dt['domiciliosA2']\n",
        "#dt['domiciliosB'] = dt['domiciliosB1']+dt['domiciliosB2']\n",
        "#dt['domiciliosC'] = dt['domiciliosC1']+dt['domiciliosC2']"
      ],
      "execution_count": null,
      "outputs": []
    },
    {
      "cell_type": "code",
      "metadata": {
        "id": "Bi8PgSvjbJLV"
      },
      "source": [
        "#del dt['domiciliosA']\n",
        "#del dt['domiciliosB']\n",
        "#del dt['domiciliosC']"
      ],
      "execution_count": null,
      "outputs": []
    },
    {
      "cell_type": "code",
      "metadata": {
        "id": "-Ya31n8sTnqF"
      },
      "source": [
        "del dt['domiciliosA1']\n",
        "del dt['domiciliosA2']\n",
        "del dt['domiciliosB1']\n",
        "del dt['domiciliosB2']\n",
        "del dt['domiciliosC1']\n",
        "del dt['domiciliosC2']\n",
        "del dt['domiciliosD']\n",
        "del dt['domiciliosE']"
      ],
      "execution_count": null,
      "outputs": []
    },
    {
      "cell_type": "markdown",
      "metadata": {
        "id": "Rq0Kx1uWXofG"
      },
      "source": [
        "#Correlação entre as variáveis \n",
        "\n",
        "Mapa de calor"
      ]
    },
    {
      "cell_type": "code",
      "metadata": {
        "id": "5XjPwQkAOHe6"
      },
      "source": [
        "corr_var = dt.corr().round(2)"
      ],
      "execution_count": null,
      "outputs": []
    },
    {
      "cell_type": "code",
      "metadata": {
        "colab": {
          "base_uri": "https://localhost:8080/",
          "height": 511
        },
        "id": "iZatRxHKOIHv",
        "outputId": "3d0d4db6-db83-41f1-ac63-200491cd41dc"
      },
      "source": [
        "sns.set(rc={'figure.figsize':(15,8)})\n",
        "sns.heatmap(data=corr_var, annot=True) "
      ],
      "execution_count": null,
      "outputs": [
        {
          "output_type": "execute_result",
          "data": {
            "text/plain": [
              "<matplotlib.axes._subplots.AxesSubplot at 0x7fc467828390>"
            ]
          },
          "metadata": {
            "tags": []
          },
          "execution_count": 583
        },
        {
          "output_type": "display_data",
          "data": {
            "image/png": "[encoded data removed]",
            "text/plain": [
              "<Figure size 1080x576 with 2 Axes>"
            ]
          },
          "metadata": {
            "tags": []
          }
        }
      ]
    },
    {
      "cell_type": "markdown",
      "metadata": {
        "id": "mrbscZLhCoQK"
      },
      "source": [
        "As colunas de população total apresenta os dados consolidados da população por faixa etária. Essa *feature* será eliminada."
      ]
    },
    {
      "cell_type": "code",
      "metadata": {
        "colab": {
          "base_uri": "https://localhost:8080/"
        },
        "id": "exZ1fu33G5C8",
        "outputId": "a9dd7fa9-b090-4d69-c763-f92fe7f0fd4d"
      },
      "source": [
        "dt.info() "
      ],
      "execution_count": null,
      "outputs": [
        {
          "output_type": "stream",
          "text": [
            "<class 'pandas.core.frame.DataFrame'>\n",
            "RangeIndex: 160 entries, 0 to 159\n",
            "Data columns (total 6 columns):\n",
            " #   Column       Non-Null Count  Dtype  \n",
            "---  ------       --------------  -----  \n",
            " 0   rendaMedia   160 non-null    float64\n",
            " 1   faturamento  160 non-null    float64\n",
            " 2   Jovens       160 non-null    int64  \n",
            " 3   Adultos      160 non-null    int64  \n",
            " 4   Idosos       160 non-null    int64  \n",
            " 5   FaixaRenda   160 non-null    int64  \n",
            "dtypes: float64(2), int64(4)\n",
            "memory usage: 7.6 KB\n"
          ],
          "name": "stdout"
        }
      ]
    },
    {
      "cell_type": "code",
      "metadata": {
        "colab": {
          "base_uri": "https://localhost:8080/",
          "height": 205
        },
        "id": "_WyZDOpnMLZa",
        "outputId": "64231d9e-34d3-4c85-e1ee-b16e354e2ec5"
      },
      "source": [
        "dt.head()"
      ],
      "execution_count": null,
      "outputs": [
        {
          "output_type": "execute_result",
          "data": {
            "text/html": [
              "<div>\n",
              "<style scoped>\n",
              "    .dataframe tbody tr th:only-of-type {\n",
              "        vertical-align: middle;\n",
              "    }\n",
              "\n",
              "    .dataframe tbody tr th {\n",
              "        vertical-align: top;\n",
              "    }\n",
              "\n",
              "    .dataframe thead th {\n",
              "        text-align: right;\n",
              "    }\n",
              "</style>\n",
              "<table border=\"1\" class=\"dataframe\">\n",
              "  <thead>\n",
              "    <tr style=\"text-align: right;\">\n",
              "      <th></th>\n",
              "      <th>rendaMedia</th>\n",
              "      <th>faturamento</th>\n",
              "      <th>Jovens</th>\n",
              "      <th>Adultos</th>\n",
              "      <th>Idosos</th>\n",
              "      <th>FaixaRenda</th>\n",
              "    </tr>\n",
              "  </thead>\n",
              "  <tbody>\n",
              "    <tr>\n",
              "      <th>0</th>\n",
              "      <td>2501.0</td>\n",
              "      <td>932515.0</td>\n",
              "      <td>2198</td>\n",
              "      <td>4775</td>\n",
              "      <td>4703</td>\n",
              "      <td>2</td>\n",
              "    </tr>\n",
              "    <tr>\n",
              "      <th>1</th>\n",
              "      <td>931.0</td>\n",
              "      <td>588833.0</td>\n",
              "      <td>10016</td>\n",
              "      <td>12748</td>\n",
              "      <td>4800</td>\n",
              "      <td>1</td>\n",
              "    </tr>\n",
              "    <tr>\n",
              "      <th>2</th>\n",
              "      <td>2391.0</td>\n",
              "      <td>874200.0</td>\n",
              "      <td>1879</td>\n",
              "      <td>4593</td>\n",
              "      <td>2531</td>\n",
              "      <td>2</td>\n",
              "    </tr>\n",
              "    <tr>\n",
              "      <th>3</th>\n",
              "      <td>3727.0</td>\n",
              "      <td>912226.0</td>\n",
              "      <td>2270</td>\n",
              "      <td>4009</td>\n",
              "      <td>3327</td>\n",
              "      <td>3</td>\n",
              "    </tr>\n",
              "    <tr>\n",
              "      <th>4</th>\n",
              "      <td>1380.0</td>\n",
              "      <td>553020.0</td>\n",
              "      <td>16343</td>\n",
              "      <td>25532</td>\n",
              "      <td>15347</td>\n",
              "      <td>1</td>\n",
              "    </tr>\n",
              "  </tbody>\n",
              "</table>\n",
              "</div>"
            ],
            "text/plain": [
              "   rendaMedia  faturamento  Jovens  Adultos  Idosos  FaixaRenda\n",
              "0      2501.0     932515.0    2198     4775    4703           2\n",
              "1       931.0     588833.0   10016    12748    4800           1\n",
              "2      2391.0     874200.0    1879     4593    2531           2\n",
              "3      3727.0     912226.0    2270     4009    3327           3\n",
              "4      1380.0     553020.0   16343    25532   15347           1"
            ]
          },
          "metadata": {
            "tags": []
          },
          "execution_count": 585
        }
      ]
    },
    {
      "cell_type": "markdown",
      "metadata": {
        "id": "Pn-cS_gIE_Lu"
      },
      "source": [
        "#Train/Test split \n",
        "\n",
        "70% do dataset em treino, 30% em teste. Semente aleatória travada"
      ]
    },
    {
      "cell_type": "code",
      "metadata": {
        "id": "03Aqs2u6E8Pu"
      },
      "source": [
        "y = dt['faturamento']\n",
        "del dt['faturamento']\n",
        "x = dt"
      ],
      "execution_count": null,
      "outputs": []
    },
    {
      "cell_type": "code",
      "metadata": {
        "id": "2CRGRzHDFLzc"
      },
      "source": [
        "#70/30 teste treino\n",
        "x_train, x_test, y_train, y_test = train_test_split(x, y, \n",
        "                                                    test_size=0.3, \n",
        "                                                    random_state=42)"
      ],
      "execution_count": null,
      "outputs": []
    },
    {
      "cell_type": "markdown",
      "metadata": {
        "id": "GdzUuP2QFMkr"
      },
      "source": [
        "#Padronização das variáveis numéricas"
      ]
    },
    {
      "cell_type": "code",
      "metadata": {
        "id": "TUWrhiCLFj1r"
      },
      "source": [
        "sc = StandardScaler()\n",
        "x_train_scaled = sc.fit_transform(x_train)\n",
        "x_test_scaled  = sc.transform(x_test)"
      ],
      "execution_count": null,
      "outputs": []
    },
    {
      "cell_type": "markdown",
      "metadata": {
        "id": "Q4ClSS2MFsO7"
      },
      "source": [
        "#Regressão Linear"
      ]
    },
    {
      "cell_type": "code",
      "metadata": {
        "id": "gwhbvCvgFuuY"
      },
      "source": [
        "lr= LinearRegression()"
      ],
      "execution_count": null,
      "outputs": []
    },
    {
      "cell_type": "code",
      "metadata": {
        "colab": {
          "base_uri": "https://localhost:8080/"
        },
        "id": "Cch9jKi6Fw6A",
        "outputId": "4e62bfc7-f1f2-4e1e-fd75-65827e651964"
      },
      "source": [
        "lr.fit(x_train, y_train)"
      ],
      "execution_count": null,
      "outputs": [
        {
          "output_type": "execute_result",
          "data": {
            "text/plain": [
              "LinearRegression(copy_X=True, fit_intercept=True, n_jobs=None, normalize=False)"
            ]
          },
          "metadata": {
            "tags": []
          },
          "execution_count": 590
        }
      ]
    },
    {
      "cell_type": "code",
      "metadata": {
        "id": "-27twmalFx_i"
      },
      "source": [
        "y_pred= lr.predict(x_test)"
      ],
      "execution_count": null,
      "outputs": []
    },
    {
      "cell_type": "code",
      "metadata": {
        "colab": {
          "base_uri": "https://localhost:8080/"
        },
        "id": "-xsD99J9FzE4",
        "outputId": "8fb08018-a6ad-4579-88f8-1fe67b5ac0ff"
      },
      "source": [
        "print('RMSE (Treino)', np.sqrt(mean_squared_error(y_train, lr.predict(x_train))))"
      ],
      "execution_count": null,
      "outputs": [
        {
          "output_type": "stream",
          "text": [
            "RMSE (Treino) 147006.97987735533\n"
          ],
          "name": "stdout"
        }
      ]
    },
    {
      "cell_type": "code",
      "metadata": {
        "colab": {
          "base_uri": "https://localhost:8080/"
        },
        "id": "1sTrUXepF1Sh",
        "outputId": "ab60bcd3-c9e4-44a4-e1a7-92a9204046d8"
      },
      "source": [
        "lr.score(x_train, y_train)"
      ],
      "execution_count": null,
      "outputs": [
        {
          "output_type": "execute_result",
          "data": {
            "text/plain": [
              "0.8382054536577668"
            ]
          },
          "metadata": {
            "tags": []
          },
          "execution_count": 593
        }
      ]
    },
    {
      "cell_type": "code",
      "metadata": {
        "colab": {
          "base_uri": "https://localhost:8080/"
        },
        "id": "6L-GeVFOF_uA",
        "outputId": "9773c8a7-e998-468c-f5fb-0e5e5ff86765"
      },
      "source": [
        "print('RMSE (Teste)', np.sqrt(mean_squared_error(y_test, y_pred)))"
      ],
      "execution_count": null,
      "outputs": [
        {
          "output_type": "stream",
          "text": [
            "RMSE (Teste) 209147.18452717183\n"
          ],
          "name": "stdout"
        }
      ]
    },
    {
      "cell_type": "code",
      "metadata": {
        "colab": {
          "base_uri": "https://localhost:8080/"
        },
        "id": "egtFy_twF2xe",
        "outputId": "aa30d347-1a01-499e-9261-cea48e53c70c"
      },
      "source": [
        "lr.score(x_test, y_test)"
      ],
      "execution_count": null,
      "outputs": [
        {
          "output_type": "execute_result",
          "data": {
            "text/plain": [
              "0.8562222817180214"
            ]
          },
          "metadata": {
            "tags": []
          },
          "execution_count": 595
        }
      ]
    },
    {
      "cell_type": "markdown",
      "metadata": {
        "id": "CcdjLG8qfUoQ"
      },
      "source": [
        "A Regressão Linear apresentou um erro médio de 209.147 reais em teste e um score alto (>0.8).\n",
        "\n",
        "Considerando que a variável alvo tem um desvio padrão é de 438.210 e média 876.159, a regressão linear se mostrou um modelo adequado para esse problema com esse dataset.\n",
        "\n",
        "A aplicação de modelos mais robustos (Decision Tree, Random Forest...) se mostra desnecessária e simplesmente ocasionaria um overfitting nos modelos.\n",
        "\n",
        "Seria ideal obter uma série temporal desses dados para que modelos mais robustos pudessem ser utilizados. "
      ]
    }
  ]
}